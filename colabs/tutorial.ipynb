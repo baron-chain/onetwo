{
  "cells": [
    {
      "cell_type": "markdown",
      "metadata": {
        "id": "sx1DwXpPEWeL"
      },
      "source": [
        "Copyright 2024 DeepMind Technologies Limited.\n",
        "\n",
        "Licensed under the Apache License, Version 2.0 (the \"License\"); you may not use this file except in compliance with the License. You may obtain a copy of the License at\n",
        "\n",
        "http://www.apache.org/licenses/LICENSE-2.0\n",
        "\n",
        "Unless required by applicable law or agreed to in writing, software distributed under the License is distributed on an \"AS IS\" BASIS, WITHOUT WARRANTIES OR CONDITIONS OF ANY KIND, either express or implied. See the License for the specific language governing permissions and limitations under the License."
      ]
    },
    {
      "cell_type": "markdown",
      "metadata": {
        "id": "4SytPbrqtkUF"
      },
      "source": [
        "![onetwo_logo_horizontal.png](data:image/png;base64,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)"
      ]
    },
    {
      "cell_type": "markdown",
      "metadata": {
        "id": "dZ7N9Pmt9kvm"
      },
      "source": [
        "This colab illustrates how to use the [OneTwo](https://github.com/google-deepmind/onetwo) library."
      ]
    },
    {
      "cell_type": "markdown",
      "metadata": {
        "id": "iF_Z92hr2fhG"
      },
      "source": [
        "# Installation"
      ]
    },
    {
      "cell_type": "code",
      "execution_count": null,
      "metadata": {
        "id": "0A6jm6BDe8g_"
      },
      "outputs": [],
      "source": [
        "# Install OneTwo\n",
        "!pip install git+https://github.com/google-deepmind/onetwo"
      ]
    },
    {
      "cell_type": "markdown",
      "metadata": {
        "id": "RUJMORFH2fHt"
      },
      "source": [
        "# Connect to an LLM and run a prompt"
      ]
    },
    {
      "cell_type": "markdown",
      "metadata": {
        "id": "Y_zhe7R7d-1R"
      },
      "source": [
        "As of the initial release, we support connections to the following models (more will be added soon):\n",
        "- Gemini API\n",
        "- Gemma running locally\n",
        "- Gemma running on a OneTwo model server\n",
        "\n"
      ]
    },
    {
      "cell_type": "markdown",
      "metadata": {
        "id": "kjSfEBh8ghYm"
      },
      "source": [
        "## Gemini API"
      ]
    },
    {
      "cell_type": "markdown",
      "metadata": {
        "id": "iscLWTJbK-un"
      },
      "source": [
        "If you have not used the Gemini API before, you will need to first create an account and API key following the instructions on https://ai.google.dev/. Then either copy-paste your API key into the placeholder below, or store it in the 'GOOGLE_API_KEY' environment variable."
      ]
    },
    {
      "cell_type": "code",
      "execution_count": null,
      "metadata": {
        "id": "NKLuPtWFK-up"
      },
      "outputs": [],
      "source": [
        "import os\n",
        "from onetwo.backends import gemini_api\n",
        "\n",
        "# You can specify your API key either here or as an environment variable.\n",
        "GOOGLE_API_KEY=None\n",
        "\n",
        "if not GOOGLE_API_KEY and 'GOOGLE_API_KEY' not in os.environ:\n",
        "  raise ValueError(\n",
        "      'GOOGLE_API_KEY must be specified either here or in the environment.')\n",
        "\n",
        "backend = gemini_api.GeminiAPI(api_key=GOOGLE_API_KEY)\n",
        "backend.register()"
      ]
    },
    {
      "cell_type": "markdown",
      "metadata": {
        "id": "sesaZZtsglUb"
      },
      "source": [
        "## Gemma (running locally)"
      ]
    },
    {
      "cell_type": "markdown",
      "metadata": {
        "id": "OOxjsEVxx8FR"
      },
      "source": [
        "The [Gemma](https://ai.google.dev/gemma) family of open weights models ([GitHub](https://github.com/google-deepmind/gemma)) can be obtained from the following repositories:\n",
        "- Vertex Model Garden: https://console.cloud.google.com/vertex-ai/publishers/google/model-garden/335\n",
        "- Kaggle: https://www.kaggle.com/models/google/gemma/\n",
        "- HuggingFace: https://huggingface.co/docs/transformers/en/model_doc/gemma\n",
        "\n",
        "As an example, below are the instructions for downloading a Gemma model from Kaggle. If you have not used Kaggle before, you will need to first create a Kaggle account and API key (a.k.a. API token) following the instructions on https://www.kaggle.com/docs/api. Then copy-paste your username and API key into the placeholders below.\n",
        "\n",
        "If you have not used Gemma on Kaggle before, you will also need to go to https://www.kaggle.com/models/google/gemma/ and click \"Request access\" to complete the consent form before proceeding."
      ]
    },
    {
      "cell_type": "code",
      "execution_count": null,
      "metadata": {
        "id": "qLfR3pFzhDMN"
      },
      "outputs": [],
      "source": [
        "# Install kaggle\n",
        "! pip install kaggle\n",
        "! pip install kagglehub"
      ]
    },
    {
      "cell_type": "code",
      "execution_count": null,
      "metadata": {
        "id": "gWepgri9gptd"
      },
      "outputs": [],
      "source": [
        "import kagglehub\n",
        "from kagglehub import auth\n",
        "\n",
        "auth.set_kaggle_credentials(\n",
        "    username='YOUR_KAGGLE_USERNAME', api_key='YOUR_KAGGLE_API_KEY'\n",
        ")\n",
        "kagglehub.login()"
      ]
    },
    {
      "cell_type": "code",
      "execution_count": null,
      "metadata": {
        "id": "YHylR7QshOHB"
      },
      "outputs": [],
      "source": [
        "import os\n",
        "\n",
        "VARIANT = '2b-it'  # @param ['2b', '2b-it', '7b', '7b-it'] {type:\"string\"}\n",
        "weights_dir = kagglehub.model_download(f'google/gemma/Flax/{VARIANT}')\n",
        "\n",
        "checkpoint_path = os.path.join(weights_dir, VARIANT)\n",
        "vocab_path = os.path.join(weights_dir, 'tokenizer.model')"
      ]
    },
    {
      "cell_type": "markdown",
      "metadata": {
        "id": "YD7WNFp_yzFb"
      },
      "source": [
        "Once you have downloaded a copy of the model, you can create a OneTwo backend using this model as follows:"
      ]
    },
    {
      "cell_type": "code",
      "execution_count": null,
      "metadata": {
        "id": "6vwlxrmDfNc8"
      },
      "outputs": [],
      "source": [
        "from onetwo.backends import gemma_local\n",
        "\n",
        "backend = gemma_local.Gemma(\n",
        "    checkpoint_path=checkpoint_path, vocab_path=vocab_path\n",
        ")\n",
        "backend.register()"
      ]
    },
    {
      "cell_type": "markdown",
      "metadata": {
        "id": "lv8giCScg8k5"
      },
      "source": [
        "## Gemma (running on a separate server)"
      ]
    },
    {
      "cell_type": "markdown",
      "metadata": {
        "id": "8QvJLDTIzAcJ"
      },
      "source": [
        "While experimenting, you may not want to have to reload the model every time you change something in your code, so it can be convenient to set up the Gemma model to run in a separate process or even on a separate machine.\n",
        "\n",
        "We provide a model server script for that."
      ]
    },
    {
      "cell_type": "markdown",
      "metadata": {
        "id": "Yzw2TkcIhja9"
      },
      "source": [
        "### Server setup"
      ]
    },
    {
      "cell_type": "markdown",
      "metadata": {
        "id": "vLYm4DaItG1J"
      },
      "source": [
        "In order to set up a server, you can use the `run_model_server.py` script. For example you can create a server that serves a Gemma model."
      ]
    },
    {
      "cell_type": "markdown",
      "metadata": {
        "id": "-3w18fFWhxSy"
      },
      "source": [
        "```shell\n",
        "CHECKPOINT_PATH=\"PATH_TO_THE_CHECKPOINT_DIR\"\n",
        "VOCAB_PATH=\"PATH_TO_THE_VOCAB_FILE\"\n",
        "\n",
        "python run_model_server.py \\\n",
        "  --backend_module=\"onetwo.backends.gemma_local\" \\\n",
        "  --backend_class=\"Gemma\" \\\n",
        "  --backend_params=\"{\\\"checkpoint_path\\\": \\\"$CHECKPOINT_PATH\\\", \\\"vocab_path\\\": \\\"$VOCAB_PATH\\\"}\" \\\n",
        "  --port=8888\n",
        "```"
      ]
    },
    {
      "cell_type": "markdown",
      "metadata": {
        "id": "12trBlN7tUIb"
      },
      "source": [
        "You can also simply create your own python code to load a model locally or connect to a remote model and run as a simple web server using code that looks like:\n",
        "\n",
        "```python\n",
        "import uvicorn\n",
        "\n",
        "def main(args):\n",
        "  # Code to create the backend connection (local or remote).\n",
        "  backend = ...\n",
        "  backend.register()\n",
        "\n",
        "  # Starting a simple server piping requests to the registered backend.\n",
        "  uvicorn.run(\n",
        "      'onetwo.backends.model_server:ModelServer',\n",
        "      host='0.0.0.0',\n",
        "      port=8888,\n",
        "      factory=True,\n",
        "  )\n",
        "```"
      ]
    },
    {
      "cell_type": "markdown",
      "metadata": {
        "id": "m26cftOxhlYs"
      },
      "source": [
        "### Client connection"
      ]
    },
    {
      "cell_type": "markdown",
      "metadata": {
        "id": "O9EOqVN6uGiC"
      },
      "source": [
        "Once your server is set up, on the client side, you can connect to it using the onetwo_api module.\n",
        "\n",
        "If you have set up a server as described above, you can uncomment the code below and copy-paste your server hostname into the placeholder."
      ]
    },
    {
      "cell_type": "code",
      "execution_count": null,
      "metadata": {
        "id": "tedsV2vmhnzP"
      },
      "outputs": [],
      "source": [
        "# from onetwo.backends import onetwo_api\n",
        "\n",
        "# backend = onetwo_api.OneTwoAPI(endpoint='http://SERVER_HOST_NAME:8888')\n",
        "# backend.register()"
      ]
    },
    {
      "cell_type": "markdown",
      "metadata": {
        "id": "xOkEy5kogs2G"
      },
      "source": [
        "## Test the connection"
      ]
    },
    {
      "cell_type": "markdown",
      "metadata": {
        "id": "5y4d1tWYuaP0"
      },
      "source": [
        "Here is some example code to issue a generate_text request to the currently registered backend."
      ]
    },
    {
      "cell_type": "code",
      "execution_count": null,
      "metadata": {
        "id": "Q-W7CGG1gvIP"
      },
      "outputs": [],
      "source": [
        "from onetwo import ot\n",
        "from onetwo.builtins import llm\n",
        "\n",
        "e = llm.generate_text(\n",
        "    'Q: What are three not so well known cities in france?\\nA:',\n",
        "    stop=['Q:'],\n",
        "    max_tokens=20,\n",
        ")\n",
        "print(ot.run(e))"
      ]
    },
    {
      "cell_type": "markdown",
      "metadata": {
        "id": "M7Go3XaQ0iz-"
      },
      "source": [
        "## Saving/Loading cache on disk"
      ]
    },
    {
      "cell_type": "markdown",
      "metadata": {
        "id": "b5qngr8sugpj"
      },
      "source": [
        "When creating a backend, one can associate a cache file to it.\n",
        "This allows one to store and retrieve previously executed requests."
      ]
    },
    {
      "cell_type": "code",
      "execution_count": null,
      "metadata": {
        "id": "g7vz62WJhHL1"
      },
      "outputs": [],
      "source": [
        "import os\n",
        "\n",
        "CACHE_FILE = '/tmp/gemini_backend_cache.json'\n",
        "\n",
        "backend = gemini_api.GeminiAPI(\n",
        "    api_key=API_KEY,\n",
        "    cache_filename=CACHE_FILE,\n",
        ")\n",
        "backend.register()\n",
        "if os.path.isfile(CACHE_FILE):\n",
        "  print(f'Loading cache from {CACHE_FILE}')\n",
        "  backend.load_cache()\n",
        "else:\n",
        "  print(f'Cache file does not exist: {CACHE_FILE}')\n",
        "\n",
        "e = llm.generate_text(\n",
        "    'Q: What are three not so well known cities in france?\\nA:',\n",
        "    stop=['Q:'],\n",
        "    max_tokens=20,\n",
        ")\n",
        "print(ot.run(e))\n",
        "\n",
        "backend.save_cache(overwrite=True)"
      ]
    }
  ],
  "metadata": {
    "colab": {
      "last_runtime": {
        "build_target": "",
        "kind": "local"
      },
      "name": "OneTwo - Tutorial",
      "private_outputs": true,
      "provenance": [],
      "toc_visible": true
    },
    "kernelspec": {
      "display_name": "Python 3",
      "name": "python3"
    },
    "language_info": {
      "name": "python"
    }
  },
  "nbformat": 4,
  "nbformat_minor": 0
}
